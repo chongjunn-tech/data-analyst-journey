{
 "cells": [
  {
   "cell_type": "markdown",
   "metadata": {},
   "source": [
    "# Programming in Python I - Project"
   ]
  },
  {
   "cell_type": "markdown",
   "metadata": {},
   "source": [
    "### For this project, you have to provide the solutions for the following 4 questions. Code your answers directly into the cell after each question. Be sure to run them to ensure that your code works. \n",
    "\n",
    "### After you have completed the questions, zip this file and upload this file back into the Course Content portal."
   ]
  },
  {
   "cell_type": "markdown",
   "metadata": {},
   "source": [
    "## 1. Write a function named <code>vowel()</code> to check if  a given string contains a vowel."
   ]
  },
  {
   "cell_type": "code",
   "execution_count": 44,
   "metadata": {},
   "outputs": [],
   "source": [
    "def vowel(string):\n",
    "    vowel='aeiou'\n",
    "    return any(s.lower() in vowel for s in string)"
   ]
  },
  {
   "cell_type": "markdown",
   "metadata": {},
   "source": [
    "## 2. Write a function named <code>reverse()</code> that reverses a string."
   ]
  },
  {
   "cell_type": "code",
   "execution_count": 47,
   "metadata": {},
   "outputs": [],
   "source": [
    "def reverse(string):\n",
    "    return string[::-1]"
   ]
  },
  {
   "cell_type": "markdown",
   "metadata": {},
   "source": [
    "## 3.\tWrite a function named <code>max_and_min()</code> that takes in a list of numbers and returns the maximum and minimum."
   ]
  },
  {
   "cell_type": "code",
   "execution_count": 40,
   "metadata": {},
   "outputs": [],
   "source": [
    "def max_and_min(a):\n",
    "    return max(a),min(a)"
   ]
  },
  {
   "cell_type": "markdown",
   "metadata": {},
   "source": [
    "## 4.\tWrite a function named <code>palindrome()</code> that checks if a string is a palindrome."
   ]
  },
  {
   "cell_type": "code",
   "execution_count": 1,
   "metadata": {},
   "outputs": [],
   "source": [
    "#solution 1\n",
    "def palindrome(string):\n",
    "    for k,v in enumerate(string):\n",
    "        check=True\n",
    "        if v==string[len(string)-k-1]:\n",
    "            continue\n",
    "        else:\n",
    "            check=False\n",
    "            break\n",
    "    return check"
   ]
  },
  {
   "cell_type": "code",
   "execution_count": 11,
   "metadata": {},
   "outputs": [],
   "source": [
    "# solution 2\n",
    "def palindrome(string):\n",
    "    for i in range(len(s)//2):\n",
    "        if s[i].lower()!=s[-(i+1)].lower():\n",
    "            return False\n",
    "        return True"
   ]
  }
 ],
 "metadata": {
  "kernelspec": {
   "display_name": "Python 3",
   "language": "python",
   "name": "python3"
  },
  "language_info": {
   "codemirror_mode": {
    "name": "ipython",
    "version": 3
   },
   "file_extension": ".py",
   "mimetype": "text/x-python",
   "name": "python",
   "nbconvert_exporter": "python",
   "pygments_lexer": "ipython3",
   "version": "3.8.5"
  }
 },
 "nbformat": 4,
 "nbformat_minor": 2
}
